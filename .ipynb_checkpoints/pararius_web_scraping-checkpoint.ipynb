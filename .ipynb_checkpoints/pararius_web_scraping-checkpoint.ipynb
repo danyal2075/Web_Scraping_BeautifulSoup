{
 "cells": [
  {
   "cell_type": "code",
   "execution_count": 45,
   "id": "703df9fe",
   "metadata": {},
   "outputs": [],
   "source": [
    "import requests\n",
    "from bs4 import BeautifulSoup\n",
    "from csv import writer"
   ]
  },
  {
   "cell_type": "code",
   "execution_count": 6,
   "id": "0fa5e3c6",
   "metadata": {},
   "outputs": [
    {
     "name": "stdout",
     "output_type": "stream",
     "text": [
      "<Response [200]>\n"
     ]
    }
   ],
   "source": [
    "url = 'https://www.pararius.com/apartments/nederland'\n",
    "page = requests.get(url)\n",
    "print(page) #' https://developer.mozilla.org/en-US/docs/Web/HTTP/Status ' This url gives us details of the gotten code"
   ]
  },
  {
   "cell_type": "markdown",
   "id": "81a64156",
   "metadata": {},
   "source": [
    "# Creating Object of class 'BeautifulSoup'"
   ]
  },
  {
   "cell_type": "code",
   "execution_count": 52,
   "id": "a5f9229d",
   "metadata": {},
   "outputs": [],
   "source": [
    "soup = BeautifulSoup(page.content, 'html.parser')\n",
    "# print(soup)"
   ]
  },
  {
   "cell_type": "markdown",
   "id": "02cbbc90",
   "metadata": {},
   "source": [
    "# We are creating a list of details with same class name"
   ]
  },
  {
   "cell_type": "code",
   "execution_count": 53,
   "id": "4cc72418",
   "metadata": {},
   "outputs": [],
   "source": [
    "lists = soup.find_all('section', class_= 'listing-search-item')\n",
    "# print(lists)"
   ]
  },
  {
   "cell_type": "markdown",
   "id": "c0379462",
   "metadata": {},
   "source": [
    "# now are reading each details stored in the lists and get the required info "
   ]
  },
  {
   "cell_type": "code",
   "execution_count": 49,
   "id": "a45853ec",
   "metadata": {},
   "outputs": [
    {
     "name": "stdout",
     "output_type": "stream",
     "text": [
      "['                        Apartment Cornelis Schuytstraat 8 1                            ', '            1071 JH Amsterdam (Museumkwartier)        ', '                €2,800 per month            ', '65 m²', '2 rooms']\n",
      "['                        Apartment Wijdesteeg                            ', '            1012 RN Amsterdam (Burgwallen-Nieuwe Zijde)        ', '                €2,175 per month            ', '65 m²', '2 rooms']\n",
      "['                        House Tijgerhof 14                            ', '            4817 EP Breda (Brabantpark)        ', '                €1,450 per month            ', '110 m²', '5 rooms']\n",
      "['                        Apartment Van Bosseplantsoen                            ', '            3317 PK Dordrecht (Crabbehof-Noord)        ', '                €975 per month            ', '80 m²', '4 rooms']\n",
      "['                        House de Melkpotte 3                            ', '            2631 PV Nootdorp (Vrouwtjeslant/Nieuweveen)        ', '                €2,750 per month            ', '184 m²', '4 rooms']\n",
      "['                        Apartment Bezuidenhoutseweg 233 B                            ', '            2594 AM Den Haag (Bezuidenhout-Oost)        ', '                €1,500 per month            ', '77 m²', '2 rooms']\n",
      "['                        Apartment Rivierenlaan                            ', '            1442 PG Purmerend (Overwhere-Zuid)        ', '                €1,700 per month            ', '73 m²', '3 rooms']\n",
      "['                        Apartment Maijweg                            ', '            5211 AB Den Bosch (Het Zand)        ', '                €1,350 per month            ', '55 m²', '2 rooms']\n",
      "['                        House Abtstraat                            ', '            6211 LS Maastricht (Jekerkwartier)        ', '                €1,195 per month            ', '60 m²', '3 rooms']\n",
      "['                        Apartment Rederserf 242                            ', '            2586 KH Den Haag (Scheveningen Badplaats)        ', '                €1,350 per month            ', '53 m²', '2 rooms']\n",
      "['                        Studio Veldhovenring 16 13                            ', '            5041 BC Tilburg (Theresia Oost)        ', '                €586 per month            ', '25 m²', '1 room']\n",
      "['                        Studio Veldhovenring 16 03                            ', '            5041 BC Tilburg (Theresia Oost)        ', '                €825 per month            ', '32 m²', '1 room']\n",
      "['                        Studio Veldhovenring 44 02                            ', '            5041 BC Tilburg (Theresia Midden)        ', '                €560 per month            ', '25 m²', '1 room']\n",
      "['                        Apartment Jan Luykenlaan 322                            ', '            2332 DH Leiden (Lage Mors)        ', '                €1,695 per month            ', '84 m²', '3 rooms']\n",
      "['                        Apartment Donkere Gaard                            ', '            3421 AT Oudewater (Kern Oudewater)        ', '                €1,136 per month            ', '80 m²', '4 rooms']\n",
      "['                        Apartment Elzendaal                            ', '            3075 LS Rotterdam (Vreewijk)        ', '                €1,350 per month            ', '35 m²', '2 rooms']\n",
      "['                        House Stuwweg                            ', '            6219 NB Maastricht (Boschpoort)        ', '                €3,250 per month            ', '180 m²', '5 rooms']\n",
      "['                        Apartment Graaf Wichmanlaan 13 A7                            ', '            1405 GW Bussum (Schimmellaan)        ', '                €1,075 per month            ', '46 m²', '2 rooms']\n",
      "['                        House Rivierensingel 479                            ', '            5704 KR Helmond (Brouwhuis-Dorp)        ', '                €1,250 per month            ', '95 m²', '4 rooms']\n",
      "['                        House Het Binnenhof 3                            ', '            1382 BJ Weesp (Herensingelkwartier)        ', '                €1,750 per month            ', '78 m²', '3 rooms']\n",
      "['                        Apartment Noordeinde 94 C                            ', '            2514 GM Den Haag (Voorhout)        ', '                €1,450 per month            ', '68 m²', '3 rooms']\n",
      "['                        Apartment Rossinilaan                            ', '            1217 CB Hilversum (Villaparken)        ', '                €1,650 per month            ', '90 m²', '3 rooms']\n",
      "['                        Apartment Hogewal                            ', '            2514 HA Den Haag (Kortenbos)        ', '                €2,750 per month            ', '158 m²', '6 rooms']\n",
      "['                        Apartment Oude Loosdrechtseweg                            ', '            1215 HL Hilversum (Staatsliedenkwartier)        ', '                €1,550 per month            ', '124 m²', '4 rooms']\n",
      "['                        Apartment Stadhouderskade                            ', '            1073 AW Amsterdam (Oude Pijp)        ', '                €2,300 per month            ', '79 m²', '2 rooms']\n",
      "['                        Apartment Papsouwselaan 87                            ', '            2624 AJ Delft (Bedrijventerrein Voorhof)        ', '                €1,250 per month            ', '70 m²', '3 rooms']\n",
      "['                        Room Schaarsbergenstraat 126                            ', '            2573 BZ Den Haag (Oostbroek-Zuid)        ', '                €795 per month            ', '13 m²', '1 room']\n",
      "['                        Apartment Westwal                            ', '            5211 DC Den Bosch (Binnenstad-Centrum)        ', '                €1,195 per month            ', '70 m²', '3 rooms']\n",
      "['                        Apartment Hoogoord                            ', '            1102 CC Amsterdam (Bijlmer Centrum (D,F,H))        ', '                €1,750 per month            ', '95 m²', '4 rooms']\n",
      "['                        Apartment Brouwersgracht                            ', '            1013 HG Amsterdam (Haarlemmerbuurt)        ', '                €2,350 per month            ', '80 m²', '3 rooms']\n",
      "['                        House Hoge Hil                            ', '            4822 AD Breda (Heksenwiel)        ', '                €1,550 per month            ', '125 m²', '5 rooms']\n",
      "['                        Apartment Walenburgerweg                            ', '            3033 AG Rotterdam (Provenierswijk)        ', '                €1,360 per month            ', '77 m²', '3 rooms']\n"
     ]
    }
   ],
   "source": [
    "for list in lists:\n",
    "    title = list.find('a', class_ ='listing-search-item__link--title').text.replace('\\n','')\n",
    "    location = list.find('div', class_ ='listing-search-item__sub-title').text.replace('\\n','')\n",
    "    price = list.find('div', class_ ='listing-search-item__price').text.replace('\\n','')\n",
    "    area=list.find('li',class_ ='illustrated-features__item illustrated-features__item--surface-area').text.replace('\\n','')\n",
    "    Nu_Room = list.find('li', class_ ='illustrated-features__item--number-of-rooms').text.replace('\\n','')\n",
    "    info = [title, location, price, area, Nu_Room  ]\n",
    "    print(info)"
   ]
  },
  {
   "cell_type": "markdown",
   "id": "38ddded2",
   "metadata": {},
   "source": [
    "# Now are creating the file.csv and and fill it with the details "
   ]
  },
  {
   "cell_type": "code",
   "execution_count": 51,
   "id": "0a216d6c",
   "metadata": {},
   "outputs": [],
   "source": [
    "with open('Apartement_details.csv','w',encoding = 'UTF-8' ) as file:\n",
    "    thewriter = writer(file)\n",
    "    header = ['Title', 'Location', 'Price', 'Area']  # We are writing the frist row means title\n",
    "    thewriter.writerow(header) # creating first row\n",
    "    for list in lists:\n",
    "        title = list.find('a', class_ ='listing-search-item__link--title').text.replace('\\n','')\n",
    "        location = list.find('div', class_ ='listing-search-item__sub-title').text.replace('\\n','')\n",
    "        price = list.find('div', class_ ='listing-search-item__price').text.replace('\\n','')\n",
    "        area=list.find('li',class_ ='illustrated-features__item illustrated-features__item--surface-area').text.replace('\\n','')\n",
    "        Nu_Room = list.find('li', class_ ='illustrated-features__item--number-of-rooms').text.replace('\\n','')\n",
    "        info = [title, location, price, area, Nu_Room  ]\n",
    "        thewriter.writerow(info)\n",
    "    "
   ]
  },
  {
   "cell_type": "code",
   "execution_count": null,
   "id": "9347e710",
   "metadata": {},
   "outputs": [],
   "source": []
  }
 ],
 "metadata": {
  "kernelspec": {
   "display_name": "Python 3 (ipykernel)",
   "language": "python",
   "name": "python3"
  },
  "language_info": {
   "codemirror_mode": {
    "name": "ipython",
    "version": 3
   },
   "file_extension": ".py",
   "mimetype": "text/x-python",
   "name": "python",
   "nbconvert_exporter": "python",
   "pygments_lexer": "ipython3",
   "version": "3.9.12"
  }
 },
 "nbformat": 4,
 "nbformat_minor": 5
}
